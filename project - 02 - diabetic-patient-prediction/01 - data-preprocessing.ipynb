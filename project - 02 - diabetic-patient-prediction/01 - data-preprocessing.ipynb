{
 "cells": [
  {
   "cell_type": "code",
   "execution_count": 70,
   "id": "12434316-6257-4c2a-b6fa-e7dde3e990d6",
   "metadata": {},
   "outputs": [],
   "source": [
    "#Import Libraries\n",
    "import numpy as np\n",
    "import pandas as pd\n",
    "import warnings\n",
    "warnings.filterwarnings('ignore')"
   ]
  },
  {
   "cell_type": "code",
   "execution_count": 71,
   "id": "bb0792f2-886b-4621-a44d-b45ecc8b2816",
   "metadata": {},
   "outputs": [],
   "source": [
    "ds = pd.read_csv(\"diabetic.csv\")"
   ]
  },
  {
   "cell_type": "code",
   "execution_count": 72,
   "id": "076cce0b-05e0-467e-a799-0ac6ecd9698e",
   "metadata": {},
   "outputs": [
    {
     "name": "stdout",
     "output_type": "stream",
     "text": [
      "<class 'pandas.core.frame.DataFrame'>\n",
      "RangeIndex: 768 entries, 0 to 767\n",
      "Data columns (total 9 columns):\n",
      " #   Column                    Non-Null Count  Dtype  \n",
      "---  ------                    --------------  -----  \n",
      " 0   Pregnancies               768 non-null    int64  \n",
      " 1   Glucose                   768 non-null    int64  \n",
      " 2   BloodPressure             768 non-null    int64  \n",
      " 3   SkinThickness             768 non-null    int64  \n",
      " 4   Insulin                   768 non-null    int64  \n",
      " 5   BMI                       768 non-null    float64\n",
      " 6   DiabetesPedigreeFunction  768 non-null    float64\n",
      " 7   Age                       768 non-null    int64  \n",
      " 8   Outcome                   768 non-null    int64  \n",
      "dtypes: float64(2), int64(7)\n",
      "memory usage: 54.1 KB\n"
     ]
    }
   ],
   "source": [
    "ds.info()"
   ]
  },
  {
   "cell_type": "code",
   "execution_count": 73,
   "id": "f8cbffce-eda4-4984-96a7-1ae5599b8dd2",
   "metadata": {},
   "outputs": [
    {
     "data": {
      "text/plain": [
       "9"
      ]
     },
     "execution_count": 73,
     "metadata": {},
     "output_type": "execute_result"
    }
   ],
   "source": [
    "#Cound of Columns\n",
    "len(ds.columns)"
   ]
  },
  {
   "cell_type": "code",
   "execution_count": 74,
   "id": "706d3355-2233-4a71-840c-7ccc1f4b2f17",
   "metadata": {},
   "outputs": [],
   "source": [
    "#Glucose - 0 is not allowed. values must be above 69\n",
    "#BloodPressure - values must be above 39\n",
    "#SkinThickness - must be above 0\n",
    "#Insulin - must be above 0\n",
    "#BMI - 0 is not allowed"
   ]
  },
  {
   "cell_type": "code",
   "execution_count": 75,
   "id": "a620e76e-f431-446c-aa2e-3bb3c54e2d90",
   "metadata": {},
   "outputs": [],
   "source": [
    "ds[\"Glucose\"] = ds[\"Glucose\"].apply(checkGlucoseValue)"
   ]
  },
  {
   "cell_type": "code",
   "execution_count": 76,
   "id": "3b9615b4-d8fe-4ba9-a4b7-cd3c3b80d6b1",
   "metadata": {},
   "outputs": [],
   "source": [
    "def checkGlucoseValue(value):\n",
    "    if value < 70:\n",
    "        return np.nan\n",
    "    else:\n",
    "        return value"
   ]
  },
  {
   "cell_type": "code",
   "execution_count": 77,
   "id": "0b251103-d581-4bdb-8398-c5a0a6222b0e",
   "metadata": {},
   "outputs": [],
   "source": [
    "gMean = ds[\"Glucose\"].mean()\n",
    "ds[\"Glucose\"] = ds[\"Glucose\"].fillna(gMean)"
   ]
  },
  {
   "cell_type": "code",
   "execution_count": 78,
   "id": "f80c27c3-e70a-4cbc-9682-2b9b01581be2",
   "metadata": {},
   "outputs": [
    {
     "data": {
      "text/plain": [
       "[np.float64(40.0),\n",
       " np.float64(44.0),\n",
       " np.float64(46.0),\n",
       " np.float64(48.0),\n",
       " np.float64(50.0),\n",
       " np.float64(52.0),\n",
       " np.float64(54.0),\n",
       " np.float64(55.0),\n",
       " np.float64(56.0),\n",
       " np.float64(58.0),\n",
       " np.float64(60.0),\n",
       " np.float64(61.0),\n",
       " np.float64(62.0),\n",
       " np.float64(64.0),\n",
       " np.float64(66.0),\n",
       " np.float64(68.0),\n",
       " np.float64(70.0),\n",
       " np.float64(72.0),\n",
       " np.float64(74.0),\n",
       " np.float64(nan),\n",
       " np.float64(65.0),\n",
       " np.float64(75.0),\n",
       " np.float64(76.0),\n",
       " np.float64(78.0),\n",
       " np.float64(80.0),\n",
       " np.float64(82.0),\n",
       " np.float64(84.0),\n",
       " np.float64(85.0),\n",
       " np.float64(86.0),\n",
       " np.float64(88.0),\n",
       " np.float64(90.0),\n",
       " np.float64(92.0),\n",
       " np.float64(94.0),\n",
       " np.float64(95.0),\n",
       " np.float64(96.0),\n",
       " np.float64(98.0),\n",
       " np.float64(100.0),\n",
       " np.float64(102.0),\n",
       " np.float64(104.0),\n",
       " np.float64(106.0),\n",
       " np.float64(108.0),\n",
       " np.float64(110.0),\n",
       " np.float64(114.0),\n",
       " np.float64(122.0)]"
      ]
     },
     "execution_count": 78,
     "metadata": {},
     "output_type": "execute_result"
    }
   ],
   "source": [
    "def checkValue(value):\n",
    "    if value < 39:\n",
    "        return np.nan\n",
    "    else:\n",
    "        return value\n",
    "\n",
    "ds[\"BloodPressure\"] = ds[\"BloodPressure\"].apply(checkValue)\n",
    "gBP = ds[\"BloodPressure\"].mean()\n",
    "sorted(ds[\"BloodPressure\"].unique())"
   ]
  },
  {
   "cell_type": "code",
   "execution_count": 79,
   "id": "232409aa-5324-43c2-ab36-2da4d03e7162",
   "metadata": {},
   "outputs": [],
   "source": [
    "ds[\"SkinThickness\"] = ds[\"SkinThickness\"].replace(0, np.nan)\n",
    "stMean = ds[\"SkinThickness\"].mean()\n",
    "ds[\"SkinThickness\"] = ds[\"SkinThickness\"].fillna(stMean)"
   ]
  },
  {
   "cell_type": "code",
   "execution_count": 80,
   "id": "0ed13ee0-4aca-46bf-bd65-ed74c879c3d8",
   "metadata": {},
   "outputs": [],
   "source": [
    "ds[\"Insulin\"] = ds[\"Insulin\"].replace(0, np.nan)\n",
    "stInsulin = ds[\"Insulin\"].mean()\n",
    "ds[\"Insulin\"] = ds[\"Insulin\"].fillna(stInsulin)"
   ]
  },
  {
   "cell_type": "code",
   "execution_count": 81,
   "id": "44b311ea-6f56-4936-a239-8f0b9c9e2591",
   "metadata": {},
   "outputs": [],
   "source": [
    "ds[\"BMI\"] = ds[\"BMI\"].replace(0, np.nan)\n",
    "stBMI = ds[\"BMI\"].mean()\n",
    "ds[\"BMI\"] = ds[\"BMI\"].fillna(stBMI)"
   ]
  },
  {
   "cell_type": "code",
   "execution_count": 82,
   "id": "a1d26952-a87c-4f6f-9ac6-c78a1f5047be",
   "metadata": {},
   "outputs": [],
   "source": [
    "ds.to_csv(\"cleaned_data.csv\")"
   ]
  },
  {
   "cell_type": "code",
   "execution_count": null,
   "id": "045649a6-3e70-47c2-b8fa-329777ef323a",
   "metadata": {},
   "outputs": [],
   "source": []
  }
 ],
 "metadata": {
  "kernelspec": {
   "display_name": "Python 3 (ipykernel)",
   "language": "python",
   "name": "python3"
  },
  "language_info": {
   "codemirror_mode": {
    "name": "ipython",
    "version": 3
   },
   "file_extension": ".py",
   "mimetype": "text/x-python",
   "name": "python",
   "nbconvert_exporter": "python",
   "pygments_lexer": "ipython3",
   "version": "3.13.2"
  }
 },
 "nbformat": 4,
 "nbformat_minor": 5
}
